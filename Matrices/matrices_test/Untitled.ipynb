{
 "cells": [
  {
   "cell_type": "markdown",
   "id": "d8f98517",
   "metadata": {},
   "source": [
    "Générons une matrice de taille 20x20 de coefficients aléatoires\n",
    "  "
   ]
  },
  {
   "cell_type": "code",
   "execution_count": 2,
   "id": "a0b01897",
   "metadata": {},
   "outputs": [],
   "source": [
    "import numpy as np"
   ]
  },
  {
   "cell_type": "code",
   "execution_count": 26,
   "id": "78acde6a",
   "metadata": {},
   "outputs": [],
   "source": [
    "A = 4*np.random.rand(20,20) - 2*np.ones((20,20)) #les coefficients de random.rand sont entre 0 et 1\n",
    "                                                 # et nos coefficients sont entre -2 et 2 dans la matrice température\n",
    "\n",
    "B = 4*np.random.rand(20,20) - 2*np.ones((20,20))\n",
    "C = 4*np.random.rand(20,1) - 2*np.ones((20,1))"
   ]
  },
  {
   "cell_type": "code",
   "execution_count": 44,
   "id": "c9129179",
   "metadata": {},
   "outputs": [],
   "source": [
    "file1 = open(\"A.txt\", \"x\")\n",
    "file2 = open(\"B.txt\", \"x\")\n",
    "file3 = open(\"C.txt\", \"x\")"
   ]
  },
  {
   "cell_type": "code",
   "execution_count": 46,
   "id": "ba8f7b31",
   "metadata": {
    "scrolled": true
   },
   "outputs": [],
   "source": [
    "file1 = open(\"A.txt\", \"w\")\n",
    "file1.write(str(A))\n",
    "file1.close()"
   ]
  },
  {
   "cell_type": "code",
   "execution_count": 47,
   "id": "491f4df8",
   "metadata": {},
   "outputs": [],
   "source": [
    "file2 = open(\"B.txt\", \"w\")\n",
    "file2.write(str(B))\n",
    "file2.close()"
   ]
  },
  {
   "cell_type": "code",
   "execution_count": 48,
   "id": "b0c50c2a",
   "metadata": {},
   "outputs": [],
   "source": [
    "file3 = open(\"A.txt\", \"w\")\n",
    "file3.write(str(C))\n",
    "file3.close()"
   ]
  },
  {
   "cell_type": "markdown",
   "id": "5ff429b9",
   "metadata": {},
   "source": [
    "Calculs de la classe Matrix"
   ]
  },
  {
   "cell_type": "code",
   "execution_count": 49,
   "id": "f6c77f6a",
   "metadata": {},
   "outputs": [],
   "source": [
    "file4 = open(\"A+B.txt\", \"x\")\n",
    "file4 = open(\"A+B.txt\", \"w\")\n",
    "file4.write(str(A+B))\n",
    "file4.close()\n"
   ]
  },
  {
   "cell_type": "code",
   "execution_count": 50,
   "id": "ff779755",
   "metadata": {},
   "outputs": [],
   "source": [
    "file5 = open(\"A-B.txt\", \"x\")\n",
    "file5 = open(\"A-B.txt\", \"w\")\n",
    "file5.write(str(A-B))\n",
    "file5.close()"
   ]
  },
  {
   "cell_type": "code",
   "execution_count": 51,
   "id": "ba153c0e",
   "metadata": {},
   "outputs": [],
   "source": [
    "file6 = open(\"A*B.txt\", \"x\")\n",
    "file6 = open(\"A*B.txt\", \"w\")\n",
    "file6.write(str(np.dot(A,C)))\n",
    "file6.close()"
   ]
  },
  {
   "cell_type": "code",
   "execution_count": 52,
   "id": "2e255034",
   "metadata": {},
   "outputs": [],
   "source": [
    "file7 = open(\"A.T.txt\", \"x\")\n",
    "file7 = open(\"A.T.txt\", \"w\")\n",
    "file7.write(str(A.T))\n",
    "file7.close()"
   ]
  },
  {
   "cell_type": "code",
   "execution_count": 53,
   "id": "a9b964e3",
   "metadata": {},
   "outputs": [],
   "source": [
    "file8 = open(\"5.2*A.txt\", \"x\")\n",
    "file8 = open(\"5.2*A.txt\", \"w\")\n",
    "file8.write(str(5.2*A))\n",
    "file8.close()"
   ]
  },
  {
   "cell_type": "code",
   "execution_count": 54,
   "id": "d6f82180",
   "metadata": {},
   "outputs": [],
   "source": [
    "file9 = open(\"norme(C).txt\", \"x\")\n",
    "file9 = open(\"norme(C).txt\", \"w\")\n",
    "file9.write(str(np.sqrt(float(np.dot(C.T,C)))))\n",
    "file9.close()"
   ]
  },
  {
   "cell_type": "code",
   "execution_count": 55,
   "id": "0da69960",
   "metadata": {},
   "outputs": [],
   "source": [
    "file10 = open(\"A^10.txt\", \"x\")\n",
    "file10 = open(\"A^10.txt\", \"w\")\n",
    "file10.write(str(np.power(A, 10)))\n",
    "file10.close()"
   ]
  },
  {
   "cell_type": "code",
   "execution_count": 56,
   "id": "a5b25660",
   "metadata": {},
   "outputs": [],
   "source": [
    "file11 = open(\"Trace(A).txt\", \"x\")\n",
    "file11 = open(\"Trace(A).txt\", \"w\")\n",
    "file11.write(str(A.trace()))\n",
    "file11.close()"
   ]
  }
 ],
 "metadata": {
  "kernelspec": {
   "display_name": "Python 3 (ipykernel)",
   "language": "python",
   "name": "python3"
  },
  "language_info": {
   "codemirror_mode": {
    "name": "ipython",
    "version": 3
   },
   "file_extension": ".py",
   "mimetype": "text/x-python",
   "name": "python",
   "nbconvert_exporter": "python",
   "pygments_lexer": "ipython3",
   "version": "3.9.5"
  }
 },
 "nbformat": 4,
 "nbformat_minor": 5
}
